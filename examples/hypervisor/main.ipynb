{
 "cells": [
  {
   "cell_type": "code",
   "execution_count": 1,
   "metadata": {},
   "outputs": [],
   "source": [
    "# Follow the instructions on https://github.com/sethmlarson/virtualbox-python\n",
    "# regarding installation of the VirtualBox SDK. If in virtual environment,\n",
    "# make sure to activate it before installing the SDK.\n",
    "#\n",
    "# VirtualBox's installation script (which installs vboxapi) tends to error\n",
    "# out when I do it, but it seems to work anyways.\n",
    "\n",
    "import virtualbox\n"
   ]
  },
  {
   "cell_type": "code",
   "execution_count": 4,
   "metadata": {},
   "outputs": [
    {
     "name": "stdout",
     "output_type": "stream",
     "text": [
      "ubuntu2404\n",
      "PoweredOff\n",
      "<class 'virtualbox.library.MachineState'>\n",
      "8192\n",
      "9e896d5d-038f-423f-a420-594ba8c41643\n",
      "Windows 11\n",
      "PoweredOff\n",
      "<class 'virtualbox.library.MachineState'>\n",
      "4096\n",
      "5ed50965-0440-4424-a4ce-1576a6369bd1\n",
      "win11-nounattend\n",
      "PoweredOff\n",
      "<class 'virtualbox.library.MachineState'>\n",
      "16384\n",
      "20d34a1d-0226-4827-92ee-03274c86f66f\n"
     ]
    }
   ],
   "source": [
    "\n",
    "# Note that VirtualBox (the GUI) doesn't need to be open to run this.\n",
    "vbox = virtualbox.VirtualBox()\n",
    "for machine in vbox.machines:\n",
    "    print(machine.name)\n",
    "    print(machine.state)\n",
    "    print(type(machine.state))\n",
    "    print(machine.memory_size)\n",
    "    print(machine.id_p)\n",
    "    "
   ]
  },
  {
   "cell_type": "code",
   "execution_count": 11,
   "metadata": {},
   "outputs": [],
   "source": [
    "# Launch the VM. The second argument to launch_vm_process, `name`, dictates\n",
    "# the frontend that the GUI will use. The three usable ones are:\n",
    "# - \"gui\": VirtualBox Qt GUI front-end\n",
    "# - \"headless\": VBoxHeadless (VRDE Server) front-end\n",
    "# - \"sdl\": VirtualBox SDL front-end\n",
    "#\n",
    "# \"gui\" is the standard GUI frontend (e.g. the one you see when you start a VM\n",
    "# normally from the VBox GUI) based on Qt. \"sdl\" is an alternative \n",
    "# SDL-based GUI frontend, which is lightweight and generally Linux-only.\n",
    "# (see https://forums.virtualbox.org/viewtopic.php?t=104104)\n",
    "\n",
    "session = virtualbox.Session()\n",
    "machine = vbox.find_machine(\"win11-nounattend\")\n",
    "\n",
    "# Returns an async `IProgress` object. wait_for_completion() is basically the\n",
    "# same as awaiting that object.\n",
    "#\n",
    "# Additionally, this locks the machine to the provided session. Opening a GUI\n",
    "# instance implicitly creates a lock on the machine.\n",
    "progress = machine.launch_vm_process(session, \"gui\", [])\n",
    "progress.wait_for_completion()"
   ]
  },
  {
   "cell_type": "code",
   "execution_count": 40,
   "metadata": {},
   "outputs": [],
   "source": [
    "# Bind a new session to a machine, typically an already-running VM.\n",
    "#\n",
    "# There are three lock types: shared (1), write (2), and vm (3).\n",
    "# Shared locks allow multiple distinct sessions to operate on the same machine\n",
    "# at once, with the caveat that various operations -- such as changing the \n",
    "# machine state or creating snapshots - are disallowed. The write lock may\n",
    "# only be held by exactly one session at a time.\n",
    "\n",
    "import virtualbox\n",
    "vbox = virtualbox.VirtualBox()\n",
    "\n",
    "session = virtualbox.Session()\n",
    "machine = vbox.find_machine(\"win11-nounattend\")\n",
    "machine.lock_machine(session, virtualbox.library.LockType(1))\n"
   ]
  },
  {
   "cell_type": "code",
   "execution_count": null,
   "metadata": {},
   "outputs": [],
   "source": [
    "\n",
    "# Verify that this machine is at the desktop. The `additions_run_level` can\n",
    "# be one of three values:\n",
    "# - 0: Guest Additions are not loaded\n",
    "# - 1: Guest drivers are loaded\n",
    "# - 2: Common components (such as application services) are loaded.\n",
    "# - 3: Per-user desktop components are loaded.\n",
    "#\n",
    "# This is described as part of `AdditionsRunLevelType`.\n",
    "import time\n",
    "if session.console.guest.additions_run_level != virtualbox.library.AdditionsRunLevelType.desktop:\n",
    "    print(\"Not at desktop yet.\")\n",
    "    time.sleep(1)\n",
    "print(\"At desktop.\")"
   ]
  },
  {
   "cell_type": "code",
   "execution_count": 19,
   "metadata": {},
   "outputs": [
    {
     "name": "stdout",
     "output_type": "stream",
     "text": [
      "C:\\Users\\Kisun\\Desktop\\Projects\\Thesis\\akf\\examples\\hypervisor\n"
     ]
    }
   ],
   "source": [
    "# Create a named shared directory. In practice, this looks like a network mount.\n",
    "\n",
    "from pathlib import Path\n",
    "\n",
    "print(Path(\".\").resolve())\n",
    "\n",
    "# https://www.virtualbox.org/sdkref/interface_i_machine.html#a56d8797225812968b96f0663a02bd4ff\n",
    "session.machine.create_shared_folder(\n",
    "    \"shared_folder\",\n",
    "    str(Path(\"./shared\").resolve()),\n",
    "    True,\n",
    "    True,\n",
    "    \"E:\" # must include colon for drive letter\n",
    ")\n",
    "session.machine.save_settings()"
   ]
  },
  {
   "cell_type": "code",
   "execution_count": 24,
   "metadata": {},
   "outputs": [
    {
     "name": "stdout",
     "output_type": "stream",
     "text": [
      "1\n",
      "0\n"
     ]
    }
   ],
   "source": [
    "# Test if the shared folder exists. (you can also check if a file exists,\n",
    "# though VBox tends to be pretty fast about both the mount itself and \n",
    "# file updates)\n",
    "\n",
    "gs = session.console.guest.create_session(\"user\", \"user\")\n",
    "print(gs.directory_exists(\"E:\", True))\n",
    "print(gs.directory_exists(\"F:\", True))\n",
    "gs.close()"
   ]
  },
  {
   "cell_type": "code",
   "execution_count": 18,
   "metadata": {},
   "outputs": [],
   "source": [
    "# Remove the shared folder.\n",
    "session.machine.remove_shared_folder(\"shared_folder\")\n",
    "session.machine.save_settings()"
   ]
  },
  {
   "cell_type": "code",
   "execution_count": null,
   "metadata": {},
   "outputs": [
    {
     "name": "stdout",
     "output_type": "stream",
     "text": [
      "Normal\n",
      "8d7d497d-9c23-4d29-9ef2-a9da4a401e9f\n",
      "Readonly\n",
      "efe82f9b-8481-4041-a683-e6c4653afca4\n",
      "Executing C:\\Program Files\\Oracle\\VirtualBox\\VboxManage.exe clonemedium --format raw 8d7d497d-9c23-4d29-9ef2-a9da4a401e9f C:\\Users\\Kisun\\Desktop\\Projects\\Thesis\\akf\\examples\\hypervisor\\export.raw\n",
      "0\n",
      "None\n",
      "None\n"
     ]
    }
   ],
   "source": [
    "# Let's try to export a disk.\n",
    "\n",
    "# Need to find our disk's ID first -- also see VBoxManage list hdds\n",
    "# ~HvVBox.get_disk_list\n",
    "for disk in session.machine.medium_attachments:\n",
    "    if disk.medium is None:\n",
    "        continue\n",
    "    \n",
    "    # if disk.type_p != virtualbox.library.DeviceType.hard_disk and disk.type_p != virtualbox.library.DeviceType.usb:\n",
    "    #     continue\n",
    "    \n",
    "    # these are all properties of IMedium\n",
    "    print(disk.medium.type_p)\n",
    "    print(disk.medium.id_p)\n",
    "    \n",
    "    \n",
    "# So our disk's ID is 8d7d497d-9c23-4d29-9ef2-a9da4a401e9f\n",
    "\n",
    "# ~HvVBox.export_disk\n",
    "# TODO: on vbox hypervisor instance initialization, we should immediately try\n",
    "# to find VBoxManage's location\n",
    "#\n",
    "# https://docs.oracle.com/en/virtualization/virtualbox/6.0/user/vboxmanage-clonemedium.html\n",
    "#\n",
    "# also note that Windows 11 apparently has disk encryption on by default now.\n",
    "# if the basic disk partition appears to be encrypted, that's because it is.\n",
    "# TODO: disable disk encryption on the VM before exporting the disk through the\n",
    "# hypervisor/guest interface?\n",
    "# also see https://superuser.com/questions/1841507/does-installing-windows-11-automatically-encrypt-all-drives\n",
    "\n",
    "vboxmanage = \"C:\\\\Program Files\\\\Oracle\\\\VirtualBox\\\\VboxManage.exe\"\n",
    "args = [\"clonemedium\", \"--format\", \"raw\", \"8d7d497d-9c23-4d29-9ef2-a9da4a401e9f\", str(Path(\".\").resolve() / \"export.raw\")]\n",
    "\n",
    "print(f\"Executing {vboxmanage} {' '.join(args)}\")\n",
    "\n",
    "import subprocess\n",
    "# i believe the machine has to be off for this to work? if it returns an error,\n",
    "# it's because the disk is either in use or something is already there\n",
    "#\n",
    "# also note this takes a pretty long time, usually a minute or two\n",
    "s = subprocess.run([vboxmanage] + args)\n",
    "print(s.returncode)\n",
    "print(s.stdout)\n",
    "print(s.stderr)\n"
   ]
  },
  {
   "cell_type": "code",
   "execution_count": 43,
   "metadata": {},
   "outputs": [
    {
     "ename": "AttributeError",
     "evalue": "'IMediumAttachment' object has no attribute 'location'",
     "output_type": "error",
     "traceback": [
      "\u001b[1;31m---------------------------------------------------------------------------\u001b[0m",
      "\u001b[1;31mAttributeError\u001b[0m                            Traceback (most recent call last)",
      "Cell \u001b[1;32mIn[43], line 8\u001b[0m\n\u001b[0;32m      1\u001b[0m \u001b[38;5;66;03m# Cloning a disk causes it to be loaded into the list of registered images, so we have to find the\u001b[39;00m\n\u001b[0;32m      2\u001b[0m \u001b[38;5;66;03m# new medium and remove it -- we could either keep track of the existing IDs,\u001b[39;00m\n\u001b[0;32m      3\u001b[0m \u001b[38;5;66;03m# or just search for which VDI has a filepath to the export.vdi file.\u001b[39;00m\n\u001b[0;32m      4\u001b[0m \u001b[38;5;66;03m#\u001b[39;00m\n\u001b[0;32m      5\u001b[0m \u001b[38;5;66;03m# You'll see the disk in `./VBoxManage list hdds` if it hasn't been removed yet.\u001b[39;00m\n\u001b[0;32m      7\u001b[0m \u001b[38;5;28;01mfor\u001b[39;00m disk \u001b[38;5;129;01min\u001b[39;00m session\u001b[38;5;241m.\u001b[39mmachine\u001b[38;5;241m.\u001b[39mmedium_attachments:\n\u001b[1;32m----> 8\u001b[0m     \u001b[38;5;28;01mif\u001b[39;00m Path(\u001b[43mdisk\u001b[49m\u001b[38;5;241;43m.\u001b[39;49m\u001b[43mlocation\u001b[49m)\u001b[38;5;241m.\u001b[39mresolve() \u001b[38;5;241m==\u001b[39m \u001b[38;5;28mstr\u001b[39m(Path(\u001b[38;5;124m\"\u001b[39m\u001b[38;5;124m.\u001b[39m\u001b[38;5;124m\"\u001b[39m)\u001b[38;5;241m.\u001b[39mresolve() \u001b[38;5;241m/\u001b[39m \u001b[38;5;124m\"\u001b[39m\u001b[38;5;124mexport.raw\u001b[39m\u001b[38;5;124m\"\u001b[39m):\n\u001b[0;32m      9\u001b[0m         \u001b[38;5;66;03m# session.machine.detach_device(disk.controller, disk.port, disk.device, True)\u001b[39;00m\n\u001b[0;32m     10\u001b[0m         disk\u001b[38;5;241m.\u001b[39mclose()\n\u001b[0;32m     11\u001b[0m         \u001b[38;5;28;01mbreak\u001b[39;00m\n",
      "\u001b[1;31mAttributeError\u001b[0m: 'IMediumAttachment' object has no attribute 'location'"
     ]
    }
   ],
   "source": [
    "\n",
    "# Cloning a disk causes it to be loaded into the list of registered images, so we have to find the\n",
    "# new medium and remove it -- we could either keep track of the existing IDs,\n",
    "# or just search for which VDI has a filepath to the export.vdi file.\n",
    "#\n",
    "# You'll see the disk in `./VBoxManage list hdds` if it hasn't been removed yet.\n",
    "\n",
    "for disk in vbox.hard_disks:\n",
    "    if disk.location == str(Path(\".\").resolve() / \"export.raw\"):\n",
    "        disk.close()\n",
    "        break\n",
    "\n",
    "# for disk in session.machine.medium_attachments:\n",
    "#     if Path(disk.location).resolve() == str(Path(\".\").resolve() / \"export.raw\"):\n",
    "#         session.machine.detach_device(disk.controller, disk.port, disk.device, True)\n",
    "#         break\n"
   ]
  },
  {
   "cell_type": "code",
   "execution_count": null,
   "metadata": {},
   "outputs": [
    {
     "name": "stdout",
     "output_type": "stream",
     "text": [
      "NAT\n",
      "HostOnly\n"
     ]
    },
    {
     "ename": "AttributeError",
     "evalue": "Failed to find attribute getMaxNetworkAdapters in <virtualbox.library.ISystemProperties object at 0x000001CED46DAC10>",
     "output_type": "error",
     "traceback": [
      "\u001b[1;31m---------------------------------------------------------------------------\u001b[0m",
      "\u001b[1;31mAttributeError\u001b[0m                            Traceback (most recent call last)",
      "Cell \u001b[1;32mIn[14], line 12\u001b[0m\n\u001b[0;32m      9\u001b[0m \u001b[38;5;28mprint\u001b[39m(machine\u001b[38;5;241m.\u001b[39mget_network_adapter(\u001b[38;5;241m1\u001b[39m)\u001b[38;5;241m.\u001b[39mattachment_type) \u001b[38;5;66;03m# HostOnly == 4\u001b[39;00m\n\u001b[0;32m     11\u001b[0m \u001b[38;5;66;03m# VBoxError: \"Failed to find attribute getMaxNetworkAdapters...\"\"\u001b[39;00m\n\u001b[1;32m---> 12\u001b[0m \u001b[38;5;28mprint\u001b[39m(\u001b[43mvbox\u001b[49m\u001b[38;5;241;43m.\u001b[39;49m\u001b[43msystem_properties\u001b[49m\u001b[38;5;241;43m.\u001b[39;49m\u001b[43mget_max_network_adapters\u001b[49m\u001b[43m(\u001b[49m\u001b[43mvirtualbox\u001b[49m\u001b[38;5;241;43m.\u001b[39;49m\u001b[43mlibrary\u001b[49m\u001b[38;5;241;43m.\u001b[39;49m\u001b[43mChipsetType\u001b[49m\u001b[43m(\u001b[49m\u001b[38;5;241;43m1\u001b[39;49m\u001b[43m)\u001b[49m\u001b[43m)\u001b[49m) \n\u001b[0;32m     14\u001b[0m \u001b[38;5;66;03m# With the Guest Additions installed, we can get the IP address of the guest.\u001b[39;00m\n\u001b[0;32m     15\u001b[0m \u001b[38;5;66;03m# Because we've configured eth1 (adapter 2) as the host-only adapter, we use\u001b[39;00m\n\u001b[0;32m     16\u001b[0m \u001b[38;5;66;03m# .../Net/1/V4/IP to get the IP address of the guest over the maintanance\u001b[39;00m\n\u001b[1;32m   (...)\u001b[0m\n\u001b[0;32m     23\u001b[0m \u001b[38;5;66;03m# and since it doesn't have internet, things like SmartScreen and Defender\u001b[39;00m\n\u001b[0;32m     24\u001b[0m \u001b[38;5;66;03m# checking downloaded files will take forever.\u001b[39;00m\n\u001b[0;32m     25\u001b[0m result \u001b[38;5;241m=\u001b[39m machine\u001b[38;5;241m.\u001b[39menumerate_guest_properties(\u001b[38;5;124m\"\u001b[39m\u001b[38;5;124m/VirtualBox/GuestInfo/Net/1/V4/IP\u001b[39m\u001b[38;5;124m\"\u001b[39m)\n",
      "File \u001b[1;32mc:\\Users\\Kisun\\Desktop\\Projects\\Thesis\\akf\\.venv\\Lib\\site-packages\\virtualbox\\library.py:20968\u001b[0m, in \u001b[0;36mISystemProperties.get_max_network_adapters\u001b[1;34m(self, chipset)\u001b[0m\n\u001b[0;32m  20966\u001b[0m \u001b[38;5;28;01mif\u001b[39;00m \u001b[38;5;129;01mnot\u001b[39;00m \u001b[38;5;28misinstance\u001b[39m(chipset, ChipsetType):\n\u001b[0;32m  20967\u001b[0m     \u001b[38;5;28;01mraise\u001b[39;00m \u001b[38;5;167;01mTypeError\u001b[39;00m(\u001b[38;5;124m\"\u001b[39m\u001b[38;5;124mchipset can only be an instance of type ChipsetType\u001b[39m\u001b[38;5;124m\"\u001b[39m)\n\u001b[1;32m> 20968\u001b[0m max_network_adapters \u001b[38;5;241m=\u001b[39m \u001b[38;5;28;43mself\u001b[39;49m\u001b[38;5;241;43m.\u001b[39;49m\u001b[43m_call\u001b[49m\u001b[43m(\u001b[49m\u001b[38;5;124;43m\"\u001b[39;49m\u001b[38;5;124;43mgetMaxNetworkAdapters\u001b[39;49m\u001b[38;5;124;43m\"\u001b[39;49m\u001b[43m,\u001b[49m\u001b[43m \u001b[49m\u001b[43min_p\u001b[49m\u001b[38;5;241;43m=\u001b[39;49m\u001b[43m[\u001b[49m\u001b[43mchipset\u001b[49m\u001b[43m]\u001b[49m\u001b[43m)\u001b[49m\n\u001b[0;32m  20969\u001b[0m \u001b[38;5;28;01mreturn\u001b[39;00m max_network_adapters\n",
      "File \u001b[1;32mc:\\Users\\Kisun\\Desktop\\Projects\\Thesis\\akf\\.venv\\Lib\\site-packages\\virtualbox\\library_base.py:198\u001b[0m, in \u001b[0;36mInterface._call\u001b[1;34m(self, name, in_p)\u001b[0m\n\u001b[0;32m    196\u001b[0m     in_p \u001b[38;5;241m=\u001b[39m []\n\u001b[0;32m    197\u001b[0m \u001b[38;5;28;01mglobal\u001b[39;00m vbox_error\n\u001b[1;32m--> 198\u001b[0m method \u001b[38;5;241m=\u001b[39m \u001b[38;5;28;43mself\u001b[39;49m\u001b[38;5;241;43m.\u001b[39;49m\u001b[43m_search_attr\u001b[49m\u001b[43m(\u001b[49m\u001b[43mname\u001b[49m\u001b[43m)\u001b[49m\n\u001b[0;32m    199\u001b[0m \u001b[38;5;28;01mif\u001b[39;00m inspect\u001b[38;5;241m.\u001b[39misfunction(method) \u001b[38;5;129;01mor\u001b[39;00m inspect\u001b[38;5;241m.\u001b[39mismethod(method):\n\u001b[0;32m    200\u001b[0m     \u001b[38;5;28;01mreturn\u001b[39;00m \u001b[38;5;28mself\u001b[39m\u001b[38;5;241m.\u001b[39m_call_method(method, in_p\u001b[38;5;241m=\u001b[39min_p)\n",
      "File \u001b[1;32mc:\\Users\\Kisun\\Desktop\\Projects\\Thesis\\akf\\.venv\\Lib\\site-packages\\virtualbox\\library_base.py:175\u001b[0m, in \u001b[0;36mInterface._search_attr\u001b[1;34m(self, name, prefix)\u001b[0m\n\u001b[0;32m    173\u001b[0m     \u001b[38;5;28;01mbreak\u001b[39;00m\n\u001b[0;32m    174\u001b[0m \u001b[38;5;28;01melse\u001b[39;00m:\n\u001b[1;32m--> 175\u001b[0m     \u001b[38;5;28;01mraise\u001b[39;00m \u001b[38;5;167;01mAttributeError\u001b[39;00m(\u001b[38;5;124m\"\u001b[39m\u001b[38;5;124mFailed to find attribute \u001b[39m\u001b[38;5;132;01m%s\u001b[39;00m\u001b[38;5;124m in \u001b[39m\u001b[38;5;132;01m%s\u001b[39;00m\u001b[38;5;124m\"\u001b[39m \u001b[38;5;241m%\u001b[39m (name, \u001b[38;5;28mself\u001b[39m))\n\u001b[0;32m    176\u001b[0m \u001b[38;5;28;01mreturn\u001b[39;00m attr\n",
      "\u001b[1;31mAttributeError\u001b[0m: Failed to find attribute getMaxNetworkAdapters in <virtualbox.library.ISystemProperties object at 0x000001CED46DAC10>"
     ]
    }
   ],
   "source": [
    "# We can check various strings to figure out which one is the host-only interface.\n",
    "# The \"HostOnly\" string enumeration member (from the NetworkAdapterType enum) is\n",
    "# what we're looking for.\n",
    "#\n",
    "# Since get_max_network_adapters doesn't work, the alternative is to simply check\n",
    "# every network adapter until we find the first host-only adapter. If an exception\n",
    "# occurs, or we get Null, we've exhausted all the adapters.\n",
    "print(machine.get_network_adapter(0).attachment_type) # NAT == 1\n",
    "print(machine.get_network_adapter(1).attachment_type) # HostOnly == 4\n",
    "\n",
    "# for some reason this doesn't work\n",
    "# https://www.virtualbox.org/sdkref/interface_i_platform_properties.html#ac0492d9c0357bb91c18d9e2ea6222d66\n",
    "# VBoxError: \"Failed to find attribute getMaxNetworkAdapters...\"\"\n",
    "# print(vbox.system_properties.get_max_network_adapters(virtualbox.library.ChipsetType(1))) \n",
    "\n",
    "# With the Guest Additions installed, we can get the IP address of the guest.\n",
    "# Because we've configured eth1 (adapter 2) as the host-only adapter, we use\n",
    "# .../Net/1/V4/IP to get the IP address of the guest over the maintanance\n",
    "# interface. Consistent with the `VBoxManage guestproperty enumerate` command,\n",
    "# a set of tuples - here, column-major order.\n",
    "#\n",
    "# Note that the host-only adapter should be configured to be the *second* adapter\n",
    "# in VirtualBox. This is because *plenty* of things will simply go slower on Windows\n",
    "# when it tries to use the host-only adapter as the primary network interface,\n",
    "# and since it doesn't have internet, things like SmartScreen and Defender\n",
    "# checking downloaded files will take forever.\n",
    "result = machine.enumerate_guest_properties(\"/VirtualBox/GuestInfo/Net/1/V4/IP\")\n",
    "host_ip_address = result[1][0]\n",
    "print(host_ip_address)\n",
    "\n",
    "# The IP address of the virtual host-only adapter for the *host* is \n",
    "# 192.168.56.1/24 by default."
   ]
  },
  {
   "cell_type": "code",
   "execution_count": 1,
   "metadata": {},
   "outputs": [],
   "source": [
    "# To get a network capture *at the hypervisor level*, you need to configure\n",
    "# the desired interface's \"trace file\". At a lower level, that means you need\n",
    "# to enable tracing for that interface, as well as configure the output path\n",
    "# for the trace file.\n",
    "#\n",
    "# reference: synthesizers-combined/pyvmpop/pyvmpop/hypervisor/hv_vbox.py:1635\n",
    "\n",
    "import virtualbox\n",
    "\n",
    "# Get our NAT interface\n",
    "vbox = virtualbox.VirtualBox()\n",
    "session = virtualbox.Session()\n",
    "machine = vbox.find_machine(\"win11-nounattend\")\n",
    "\n",
    "# progress = machine.launch_vm_process(session, \"gui\", [])\n",
    "# progress.wait_for_completion()\n",
    "\n",
    "# Need a lock to change these settings. A shared lock is sufficient.\n",
    "# This doesn't happen in VMPOP's hv_vbox.py because they already have a \n",
    "# session lock, likely as a result of starting the machine.\n",
    "machine.lock_machine(session, virtualbox.library.LockType.shared)\n",
    "\n",
    "# Getting the network adapter *has* to be bound to a session for this to work.\n",
    "# Without a session holding a lock, you'll get inexplicable errors about needing\n",
    "# the machine to be saved/running... when the machine is already in those states.\n",
    "network_adapter = session.machine.get_network_adapter(0)\n",
    "\n",
    "# Power off the machine if it is currently on\n",
    "# if machine.state == virtualbox.library.MachineState(5):\n",
    "#     # Guest Additions shutdown, i.e. a normal ACPI shutdown.\n",
    "#     # session.console.guest.shutdown()\n",
    "    \n",
    "#     # Note that this is a VM shutdown, not an ACPI shutdown.    \n",
    "#     progress = session.console.power_down()\n",
    "#     progress.wait_for_completion()\n",
    "\n",
    "# You're supposed to only configure tracing when the machine is off, but that\n",
    "# doesn't seem to be a hard requirement.\n",
    "# https://forums.virtualbox.org/viewtopic.php?t=93612\n",
    "network_adapter.trace_enabled = True\n",
    "network_adapter.trace_file = \"\"\n",
    "session.machine.save_settings()\n",
    "session.unlock_machine()"
   ]
  }
 ],
 "metadata": {
  "kernelspec": {
   "display_name": ".venv",
   "language": "python",
   "name": "python3"
  },
  "language_info": {
   "codemirror_mode": {
    "name": "ipython",
    "version": 3
   },
   "file_extension": ".py",
   "mimetype": "text/x-python",
   "name": "python",
   "nbconvert_exporter": "python",
   "pygments_lexer": "ipython3",
   "version": "3.11.9"
  }
 },
 "nbformat": 4,
 "nbformat_minor": 2
}
