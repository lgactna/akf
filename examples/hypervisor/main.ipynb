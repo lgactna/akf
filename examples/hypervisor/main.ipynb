{
 "cells": [
  {
   "cell_type": "code",
   "execution_count": 1,
   "metadata": {},
   "outputs": [],
   "source": [
    "# Follow the instructions on https://github.com/sethmlarson/virtualbox-python\n",
    "# regarding installation of the VirtualBox SDK. If in virtual environment,\n",
    "# make sure to activate it before installing the SDK.\n",
    "#\n",
    "# VirtualBox's installation script (which installs vboxapi) tends to error\n",
    "# out when I do it, but it seems to work anyways.\n",
    "\n",
    "import virtualbox\n"
   ]
  },
  {
   "cell_type": "code",
   "execution_count": null,
   "metadata": {},
   "outputs": [],
   "source": [
    "\n",
    "# Note that VirtualBox (the GUI) doesn't need to be open to run this.\n",
    "vbox = virtualbox.VirtualBox()\n",
    "for machine in vbox.machines:\n",
    "    print(machine.name)\n",
    "    print(machine.state)\n",
    "    print(machine.memory_size)\n",
    "    "
   ]
  },
  {
   "cell_type": "code",
   "execution_count": 11,
   "metadata": {},
   "outputs": [],
   "source": [
    "# Launch the VM. The second argument to launch_vm_process, `name`, dictates\n",
    "# the frontend that the GUI will use. The three usable ones are:\n",
    "# - \"gui\": VirtualBox Qt GUI front-end\n",
    "# - \"headless\": VBoxHeadless (VRDE Server) front-end\n",
    "# - \"sdl\": VirtualBox SDL front-end\n",
    "#\n",
    "# \"gui\" is the standard GUI frontend (e.g. the one you see when you start a VM\n",
    "# normally from the VBox GUI) based on Qt. \"sdl\" is an alternative \n",
    "# SDL-based GUI frontend, which is lightweight and generally Linux-only.\n",
    "# (see https://forums.virtualbox.org/viewtopic.php?t=104104)\n",
    "\n",
    "session = virtualbox.Session()\n",
    "machine = vbox.find_machine(\"win11-nounattend\")\n",
    "\n",
    "# Returns an async `IProgress` object. wait_for_completion() is basically the\n",
    "# same as awaiting that object.\n",
    "#\n",
    "# Additionally, this locks the machine to the provided session. Opening a GUI\n",
    "# instance implicitly creates a lock on the machine.\n",
    "progress = machine.launch_vm_process(session, \"gui\", [])\n",
    "progress.wait_for_completion()"
   ]
  },
  {
   "cell_type": "code",
   "execution_count": 22,
   "metadata": {},
   "outputs": [
    {
     "name": "stdout",
     "output_type": "stream",
     "text": [
      "At desktop.\n"
     ]
    }
   ],
   "source": [
    "# Bind a new session to a machine, typically an already-running VM.\n",
    "#\n",
    "# There are three lock types: shared (1), write (2), and vm (3).\n",
    "# Shared locks allow multiple distinct sessions to operate on the same machine\n",
    "# at once, with the caveat that various operations -- such as changing the \n",
    "# machine state or creating snapshots - are disallowed. The write lock may\n",
    "# only be held by exactly one session at a time.\n",
    "\n",
    "session = virtualbox.Session()\n",
    "machine = vbox.find_machine(\"win11-nounattend\")\n",
    "machine.lock_machine(session, virtualbox.library.LockType(1))\n",
    "\n",
    "# Verify that this machine is at the desktop. The `additions_run_level` can\n",
    "# be one of three values:\n",
    "# - 0: Guest Additions are not loaded\n",
    "# - 1: Guest drivers are loaded\n",
    "# - 2: Common components (such as application services) are loaded.\n",
    "# - 3: Per-user desktop components are loaded.\n",
    "#\n",
    "# This is described as part of `AdditionsRunLevelType`.\n",
    "import time\n",
    "if session.console.guest.additions_run_level != 3:\n",
    "    print(\"Not at desktop yet.\")\n",
    "    time.sleep(1)\n",
    "print(\"At desktop.\")"
   ]
  },
  {
   "cell_type": "code",
   "execution_count": 37,
   "metadata": {},
   "outputs": [
    {
     "name": "stdout",
     "output_type": "stream",
     "text": [
      "NAT\n",
      "HostOnly\n",
      "192.168.56.102\n"
     ]
    }
   ],
   "source": [
    "# We can check various strings to figure out which one is the host-only interface.\n",
    "# The \"HostOnly\" string enumeration member (from the NetworkAdapterType enum) is\n",
    "# what we're looking for.\n",
    "print(machine.get_network_adapter(0).attachment_type) # NAT == 1\n",
    "print(machine.get_network_adapter(1).attachment_type) # HostOnly == 4\n",
    "\n",
    "# With the Guest Additions installed, we can get the IP address of the guest.\n",
    "# Because we've configured eth1 (adapter 2) as the host-only adapter, we use\n",
    "# .../Net/1/V4/IP to get the IP address of the guest over the maintanance\n",
    "# interface. Consistent with the `VBoxManage guestproperty enumerate` command,\n",
    "# a set of tuples - here, column-major order.\n",
    "#\n",
    "# Note that the host-only adapter should be configured to be the *second* adapter\n",
    "# in VirtualBox. This is because *plenty* of things will simply go slower on Windows\n",
    "# when it tries to use the host-only adapter as the primary network interface,\n",
    "# and since it doesn't have internet, things like SmartScreen and Defender\n",
    "# checking downloaded files will take forever.\n",
    "result = machine.enumerate_guest_properties(\"/VirtualBox/GuestInfo/Net/1/V4/IP\")\n",
    "host_ip_address = result[1][0]\n",
    "print(host_ip_address)\n",
    "\n",
    "# The IP address of the virtual host-only adapter for the *host* is \n",
    "# 192.168.56.1/24 by default."
   ]
  },
  {
   "cell_type": "code",
   "execution_count": 2,
   "metadata": {},
   "outputs": [],
   "source": [
    "# To get a network capture *at the hypervisor level*, you need to configure\n",
    "# the desired interface's \"trace file\". At a lower level, that means you need\n",
    "# to enable tracing for that interface, as well as configure the output path\n",
    "# for the trace file.\n",
    "#\n",
    "# reference: synthesizers-combined/pyvmpop/pyvmpop/hypervisor/hv_vbox.py:1635\n",
    "\n",
    "import virtualbox\n",
    "\n",
    "# Get our NAT interface\n",
    "vbox = virtualbox.VirtualBox()\n",
    "session = virtualbox.Session()\n",
    "machine = vbox.find_machine(\"win11-nounattend\")\n",
    "\n",
    "# progress = machine.launch_vm_process(session, \"gui\", [])\n",
    "# progress.wait_for_completion()\n",
    "\n",
    "# Need a lock to change these settings. A shared lock is sufficient.\n",
    "# This doesn't happen in VMPOP's hv_vbox.py because they already have a \n",
    "# session lock, likely as a result of starting the machine.\n",
    "machine.lock_machine(session, virtualbox.library.LockType(1))\n",
    "\n",
    "# Getting the network adapter *has* to be bound to a session for this to work.\n",
    "# Without a session holding a lock, you'll get inexplicable errors about needing\n",
    "# the machine to be saved/running... when the machine is already in those states.\n",
    "network_adapter = session.machine.get_network_adapter(0)\n",
    "\n",
    "# Power off the machine if it is currently on\n",
    "# if machine.state == virtualbox.library.MachineState(5):\n",
    "#     # Guest Additions shutdown, i.e. a normal ACPI shutdown.\n",
    "#     # session.console.guest.shutdown()\n",
    "    \n",
    "#     # Note that this is a VM shutdown, not an ACPI shutdown.    \n",
    "#     progress = session.console.power_down()\n",
    "#     progress.wait_for_completion()\n",
    "\n",
    "# Tracing can only be configured with the VM powered off.\n",
    "# https://forums.virtualbox.org/viewtopic.php?t=93612 ??\n",
    "network_adapter.trace_enabled = True\n",
    "network_adapter.trace_file = \"\"\n",
    "session.machine.save_settings()\n",
    "session.unlock_machine()"
   ]
  }
 ],
 "metadata": {
  "kernelspec": {
   "display_name": ".venv",
   "language": "python",
   "name": "python3"
  },
  "language_info": {
   "codemirror_mode": {
    "name": "ipython",
    "version": 3
   },
   "file_extension": ".py",
   "mimetype": "text/x-python",
   "name": "python",
   "nbconvert_exporter": "python",
   "pygments_lexer": "ipython3",
   "version": "3.11.9"
  }
 },
 "nbformat": 4,
 "nbformat_minor": 2
}
