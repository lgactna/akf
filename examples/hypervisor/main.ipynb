{
 "cells": [
  {
   "cell_type": "code",
   "execution_count": 1,
   "metadata": {},
   "outputs": [],
   "source": [
    "# Follow the instructions on https://github.com/sethmlarson/virtualbox-python\n",
    "# regarding installation of the VirtualBox SDK. If in virtual environment,\n",
    "# make sure to activate it before installing the SDK.\n",
    "#\n",
    "# VirtualBox's installation script (which installs vboxapi) tends to error\n",
    "# out when I do it, but it seems to work anyways.\n",
    "\n",
    "import virtualbox\n"
   ]
  },
  {
   "cell_type": "code",
   "execution_count": 4,
   "metadata": {},
   "outputs": [
    {
     "name": "stdout",
     "output_type": "stream",
     "text": [
      "ubuntu2404\n",
      "PoweredOff\n",
      "<class 'virtualbox.library.MachineState'>\n",
      "8192\n",
      "9e896d5d-038f-423f-a420-594ba8c41643\n",
      "Windows 11\n",
      "PoweredOff\n",
      "<class 'virtualbox.library.MachineState'>\n",
      "4096\n",
      "5ed50965-0440-4424-a4ce-1576a6369bd1\n",
      "win11-nounattend\n",
      "PoweredOff\n",
      "<class 'virtualbox.library.MachineState'>\n",
      "16384\n",
      "20d34a1d-0226-4827-92ee-03274c86f66f\n"
     ]
    }
   ],
   "source": [
    "\n",
    "# Note that VirtualBox (the GUI) doesn't need to be open to run this.\n",
    "vbox = virtualbox.VirtualBox()\n",
    "for machine in vbox.machines:\n",
    "    print(machine.name)\n",
    "    print(machine.state)\n",
    "    print(type(machine.state))\n",
    "    print(machine.memory_size)\n",
    "    print(machine.id_p)\n",
    "    "
   ]
  },
  {
   "cell_type": "code",
   "execution_count": 11,
   "metadata": {},
   "outputs": [],
   "source": [
    "# Launch the VM. The second argument to launch_vm_process, `name`, dictates\n",
    "# the frontend that the GUI will use. The three usable ones are:\n",
    "# - \"gui\": VirtualBox Qt GUI front-end\n",
    "# - \"headless\": VBoxHeadless (VRDE Server) front-end\n",
    "# - \"sdl\": VirtualBox SDL front-end\n",
    "#\n",
    "# \"gui\" is the standard GUI frontend (e.g. the one you see when you start a VM\n",
    "# normally from the VBox GUI) based on Qt. \"sdl\" is an alternative \n",
    "# SDL-based GUI frontend, which is lightweight and generally Linux-only.\n",
    "# (see https://forums.virtualbox.org/viewtopic.php?t=104104)\n",
    "\n",
    "session = virtualbox.Session()\n",
    "machine = vbox.find_machine(\"win11-nounattend\")\n",
    "\n",
    "# Returns an async `IProgress` object. wait_for_completion() is basically the\n",
    "# same as awaiting that object.\n",
    "#\n",
    "# Additionally, this locks the machine to the provided session. Opening a GUI\n",
    "# instance implicitly creates a lock on the machine.\n",
    "progress = machine.launch_vm_process(session, \"gui\", [])\n",
    "progress.wait_for_completion()"
   ]
  },
  {
   "cell_type": "code",
   "execution_count": 2,
   "metadata": {},
   "outputs": [
    {
     "ename": "AttributeError",
     "evalue": "Failed to find attribute guest in <virtualbox.library_ext.console.IConsole object at 0x00000207388FB790>",
     "output_type": "error",
     "traceback": [
      "\u001b[1;31m---------------------------------------------------------------------------\u001b[0m",
      "\u001b[1;31mAttributeError\u001b[0m                            Traceback (most recent call last)",
      "Cell \u001b[1;32mIn[2], line 25\u001b[0m\n\u001b[0;32m     16\u001b[0m \u001b[38;5;66;03m# Verify that this machine is at the desktop. The `additions_run_level` can\u001b[39;00m\n\u001b[0;32m     17\u001b[0m \u001b[38;5;66;03m# be one of three values:\u001b[39;00m\n\u001b[0;32m     18\u001b[0m \u001b[38;5;66;03m# - 0: Guest Additions are not loaded\u001b[39;00m\n\u001b[1;32m   (...)\u001b[0m\n\u001b[0;32m     22\u001b[0m \u001b[38;5;66;03m#\u001b[39;00m\n\u001b[0;32m     23\u001b[0m \u001b[38;5;66;03m# This is described as part of `AdditionsRunLevelType`.\u001b[39;00m\n\u001b[0;32m     24\u001b[0m \u001b[38;5;28;01mimport\u001b[39;00m\u001b[38;5;250m \u001b[39m\u001b[38;5;21;01mtime\u001b[39;00m\n\u001b[1;32m---> 25\u001b[0m \u001b[38;5;28;01mif\u001b[39;00m \u001b[43msession\u001b[49m\u001b[38;5;241;43m.\u001b[39;49m\u001b[43mconsole\u001b[49m\u001b[38;5;241;43m.\u001b[39;49m\u001b[43mguest\u001b[49m\u001b[38;5;241m.\u001b[39madditions_run_level \u001b[38;5;241m!=\u001b[39m virtualbox\u001b[38;5;241m.\u001b[39mlibrary\u001b[38;5;241m.\u001b[39mAdditionsRunLevelType\u001b[38;5;241m.\u001b[39mdesktop:\n\u001b[0;32m     26\u001b[0m     \u001b[38;5;28mprint\u001b[39m(\u001b[38;5;124m\"\u001b[39m\u001b[38;5;124mNot at desktop yet.\u001b[39m\u001b[38;5;124m\"\u001b[39m)\n\u001b[0;32m     27\u001b[0m     time\u001b[38;5;241m.\u001b[39msleep(\u001b[38;5;241m1\u001b[39m)\n",
      "File \u001b[1;32mc:\\Users\\Kisun\\Desktop\\Projects\\akf\\.venv\\Lib\\site-packages\\virtualbox\\library.py:18302\u001b[0m, in \u001b[0;36mIConsole.guest\u001b[1;34m(self)\u001b[0m\n\u001b[0;32m  18297\u001b[0m \u001b[38;5;129m@property\u001b[39m\n\u001b[0;32m  18298\u001b[0m \u001b[38;5;28;01mdef\u001b[39;00m\u001b[38;5;250m \u001b[39m\u001b[38;5;21mguest\u001b[39m(\u001b[38;5;28mself\u001b[39m):\n\u001b[0;32m  18299\u001b[0m \u001b[38;5;250m    \u001b[39m\u001b[38;5;124;03m\"\"\"Get IGuest value for 'guest'\u001b[39;00m\n\u001b[0;32m  18300\u001b[0m \u001b[38;5;124;03m    Guest object.\u001b[39;00m\n\u001b[0;32m  18301\u001b[0m \u001b[38;5;124;03m    \"\"\"\u001b[39;00m\n\u001b[1;32m> 18302\u001b[0m     ret \u001b[38;5;241m=\u001b[39m \u001b[38;5;28;43mself\u001b[39;49m\u001b[38;5;241;43m.\u001b[39;49m\u001b[43m_get_attr\u001b[49m\u001b[43m(\u001b[49m\u001b[38;5;124;43m\"\u001b[39;49m\u001b[38;5;124;43mguest\u001b[39;49m\u001b[38;5;124;43m\"\u001b[39;49m\u001b[43m)\u001b[49m\n\u001b[0;32m  18303\u001b[0m     \u001b[38;5;28;01mreturn\u001b[39;00m IGuest(ret)\n",
      "File \u001b[1;32mc:\\Users\\Kisun\\Desktop\\Projects\\akf\\.venv\\Lib\\site-packages\\virtualbox\\library_base.py:179\u001b[0m, in \u001b[0;36mInterface._get_attr\u001b[1;34m(self, name)\u001b[0m\n\u001b[0;32m    178\u001b[0m \u001b[38;5;28;01mdef\u001b[39;00m\u001b[38;5;250m \u001b[39m\u001b[38;5;21m_get_attr\u001b[39m(\u001b[38;5;28mself\u001b[39m, name):\n\u001b[1;32m--> 179\u001b[0m     attr \u001b[38;5;241m=\u001b[39m \u001b[38;5;28;43mself\u001b[39;49m\u001b[38;5;241;43m.\u001b[39;49m\u001b[43m_search_attr\u001b[49m\u001b[43m(\u001b[49m\u001b[43mname\u001b[49m\u001b[43m,\u001b[49m\u001b[43m \u001b[49m\u001b[43mprefix\u001b[49m\u001b[38;5;241;43m=\u001b[39;49m\u001b[38;5;124;43m\"\u001b[39;49m\u001b[38;5;124;43mget\u001b[39;49m\u001b[38;5;124;43m\"\u001b[39;49m\u001b[43m)\u001b[49m\n\u001b[0;32m    180\u001b[0m     \u001b[38;5;28;01mif\u001b[39;00m inspect\u001b[38;5;241m.\u001b[39misfunction(attr) \u001b[38;5;129;01mor\u001b[39;00m inspect\u001b[38;5;241m.\u001b[39mismethod(attr):\n\u001b[0;32m    181\u001b[0m         \u001b[38;5;28;01mreturn\u001b[39;00m \u001b[38;5;28mself\u001b[39m\u001b[38;5;241m.\u001b[39m_call_method(attr)\n",
      "File \u001b[1;32mc:\\Users\\Kisun\\Desktop\\Projects\\akf\\.venv\\Lib\\site-packages\\virtualbox\\library_base.py:175\u001b[0m, in \u001b[0;36mInterface._search_attr\u001b[1;34m(self, name, prefix)\u001b[0m\n\u001b[0;32m    173\u001b[0m     \u001b[38;5;28;01mbreak\u001b[39;00m\n\u001b[0;32m    174\u001b[0m \u001b[38;5;28;01melse\u001b[39;00m:\n\u001b[1;32m--> 175\u001b[0m     \u001b[38;5;28;01mraise\u001b[39;00m \u001b[38;5;167;01mAttributeError\u001b[39;00m(\u001b[38;5;124m\"\u001b[39m\u001b[38;5;124mFailed to find attribute \u001b[39m\u001b[38;5;132;01m%s\u001b[39;00m\u001b[38;5;124m in \u001b[39m\u001b[38;5;132;01m%s\u001b[39;00m\u001b[38;5;124m\"\u001b[39m \u001b[38;5;241m%\u001b[39m (name, \u001b[38;5;28mself\u001b[39m))\n\u001b[0;32m    176\u001b[0m \u001b[38;5;28;01mreturn\u001b[39;00m attr\n",
      "\u001b[1;31mAttributeError\u001b[0m: Failed to find attribute guest in <virtualbox.library_ext.console.IConsole object at 0x00000207388FB790>"
     ]
    }
   ],
   "source": [
    "# Bind a new session to a machine, typically an already-running VM.\n",
    "#\n",
    "# There are three lock types: shared (1), write (2), and vm (3).\n",
    "# Shared locks allow multiple distinct sessions to operate on the same machine\n",
    "# at once, with the caveat that various operations -- such as changing the \n",
    "# machine state or creating snapshots - are disallowed. The write lock may\n",
    "# only be held by exactly one session at a time.\n",
    "\n",
    "import virtualbox\n",
    "vbox = virtualbox.VirtualBox()\n",
    "\n",
    "session = virtualbox.Session()\n",
    "machine = vbox.find_machine(\"win11-nounattend\")\n",
    "machine.lock_machine(session, virtualbox.library.LockType(1))\n",
    "\n",
    "# Verify that this machine is at the desktop. The `additions_run_level` can\n",
    "# be one of three values:\n",
    "# - 0: Guest Additions are not loaded\n",
    "# - 1: Guest drivers are loaded\n",
    "# - 2: Common components (such as application services) are loaded.\n",
    "# - 3: Per-user desktop components are loaded.\n",
    "#\n",
    "# This is described as part of `AdditionsRunLevelType`.\n",
    "import time\n",
    "if session.console.guest.additions_run_level != virtualbox.library.AdditionsRunLevelType.desktop:\n",
    "    print(\"Not at desktop yet.\")\n",
    "    time.sleep(1)\n",
    "print(\"At desktop.\")"
   ]
  },
  {
   "cell_type": "code",
   "execution_count": null,
   "metadata": {},
   "outputs": [],
   "source": [
    "# We can check various strings to figure out which one is the host-only interface.\n",
    "# The \"HostOnly\" string enumeration member (from the NetworkAdapterType enum) is\n",
    "# what we're looking for.\n",
    "print(machine.get_network_adapter(0).attachment_type) # NAT == 1\n",
    "print(machine.get_network_adapter(1).attachment_type) # HostOnly == 4\n",
    "\n",
    "# With the Guest Additions installed, we can get the IP address of the guest.\n",
    "# Because we've configured eth1 (adapter 2) as the host-only adapter, we use\n",
    "# .../Net/1/V4/IP to get the IP address of the guest over the maintanance\n",
    "# interface. Consistent with the `VBoxManage guestproperty enumerate` command,\n",
    "# a set of tuples - here, column-major order.\n",
    "#\n",
    "# Note that the host-only adapter should be configured to be the *second* adapter\n",
    "# in VirtualBox. This is because *plenty* of things will simply go slower on Windows\n",
    "# when it tries to use the host-only adapter as the primary network interface,\n",
    "# and since it doesn't have internet, things like SmartScreen and Defender\n",
    "# checking downloaded files will take forever.\n",
    "result = machine.enumerate_guest_properties(\"/VirtualBox/GuestInfo/Net/1/V4/IP\")\n",
    "host_ip_address = result[1][0]\n",
    "print(host_ip_address)\n",
    "\n",
    "# The IP address of the virtual host-only adapter for the *host* is \n",
    "# 192.168.56.1/24 by default."
   ]
  },
  {
   "cell_type": "code",
   "execution_count": 1,
   "metadata": {},
   "outputs": [],
   "source": [
    "# To get a network capture *at the hypervisor level*, you need to configure\n",
    "# the desired interface's \"trace file\". At a lower level, that means you need\n",
    "# to enable tracing for that interface, as well as configure the output path\n",
    "# for the trace file.\n",
    "#\n",
    "# reference: synthesizers-combined/pyvmpop/pyvmpop/hypervisor/hv_vbox.py:1635\n",
    "\n",
    "import virtualbox\n",
    "\n",
    "# Get our NAT interface\n",
    "vbox = virtualbox.VirtualBox()\n",
    "session = virtualbox.Session()\n",
    "machine = vbox.find_machine(\"win11-nounattend\")\n",
    "\n",
    "# progress = machine.launch_vm_process(session, \"gui\", [])\n",
    "# progress.wait_for_completion()\n",
    "\n",
    "# Need a lock to change these settings. A shared lock is sufficient.\n",
    "# This doesn't happen in VMPOP's hv_vbox.py because they already have a \n",
    "# session lock, likely as a result of starting the machine.\n",
    "machine.lock_machine(session, virtualbox.library.LockType.shared)\n",
    "\n",
    "# Getting the network adapter *has* to be bound to a session for this to work.\n",
    "# Without a session holding a lock, you'll get inexplicable errors about needing\n",
    "# the machine to be saved/running... when the machine is already in those states.\n",
    "network_adapter = session.machine.get_network_adapter(0)\n",
    "\n",
    "# Power off the machine if it is currently on\n",
    "# if machine.state == virtualbox.library.MachineState(5):\n",
    "#     # Guest Additions shutdown, i.e. a normal ACPI shutdown.\n",
    "#     # session.console.guest.shutdown()\n",
    "    \n",
    "#     # Note that this is a VM shutdown, not an ACPI shutdown.    \n",
    "#     progress = session.console.power_down()\n",
    "#     progress.wait_for_completion()\n",
    "\n",
    "# You're supposed to only configure tracing when the machine is off, but that\n",
    "# doesn't seem to be a hard requirement.\n",
    "# https://forums.virtualbox.org/viewtopic.php?t=93612\n",
    "network_adapter.trace_enabled = True\n",
    "network_adapter.trace_file = \"\"\n",
    "session.machine.save_settings()\n",
    "session.unlock_machine()"
   ]
  }
 ],
 "metadata": {
  "kernelspec": {
   "display_name": ".venv",
   "language": "python",
   "name": "python3"
  },
  "language_info": {
   "codemirror_mode": {
    "name": "ipython",
    "version": 3
   },
   "file_extension": ".py",
   "mimetype": "text/x-python",
   "name": "python",
   "nbconvert_exporter": "python",
   "pygments_lexer": "ipython3",
   "version": "3.11.9"
  }
 },
 "nbformat": 4,
 "nbformat_minor": 2
}
